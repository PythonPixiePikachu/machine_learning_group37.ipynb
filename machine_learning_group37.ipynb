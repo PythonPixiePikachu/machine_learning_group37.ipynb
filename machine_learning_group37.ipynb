{
  "cells": [
    {
      "cell_type": "code",
      "execution_count": 1,
      "metadata": {
        "id": "VRpVq98b7PXT"
      },
      "outputs": [],
      "source": [
        "import tensorflow as tf\n",
        "from tensorflow.keras import layers, models, optimizers, losses, callbacks,\\\n",
        "                             regularizers\n",
        "import numpy as np\n",
        "import matplotlib.pyplot as plt"
      ]
    },
    {
      "cell_type": "code",
      "execution_count": 2,
      "metadata": {
        "colab": {
          "base_uri": "https://localhost:8080/"
        },
        "id": "-9IFXmYSf0eq",
        "outputId": "9a248189-2d68-4fd6-deee-6a53d542a796"
      },
      "outputs": [
        {
          "output_type": "stream",
          "name": "stdout",
          "text": [
            "Mounted at /content/drive\n"
          ]
        }
      ],
      "source": [
        "from google.colab import drive\n",
        "drive.mount('/content/drive')"
      ]
    },
    {
      "cell_type": "code",
      "execution_count": 3,
      "metadata": {
        "id": "xIFMV64nBy7Y"
      },
      "outputs": [],
      "source": [
        "train_dir = '/content/drive/MyDrive/Machine_Learning/Group_Project_Data/Train'\n",
        "valid_dir = '/content/drive/MyDrive/Machine_Learning/Group_Project_Data/Valid'"
      ]
    },
    {
      "cell_type": "code",
      "execution_count": 4,
      "metadata": {
        "id": "URQkdrQxC8vT"
      },
      "outputs": [],
      "source": [
        "img_size = (64, 64)\n",
        "batch_size = 32\n",
        "epochs = 5"
      ]
    },
    {
      "cell_type": "code",
      "execution_count": 16,
      "metadata": {
        "id": "UqPiunzIDAWb"
      },
      "outputs": [],
      "source": [
        "train_datagen = tf.keras.preprocessing.image.ImageDataGenerator(\n",
        "    rescale=1./255,\n",
        "    zoom_range=0.2,\n",
        "    rotation_range=90,\n",
        "    shear_range = 0.4\n",
        ")"
      ]
    },
    {
      "cell_type": "code",
      "source": [
        "# train_datagen = tf.keras.preprocessing.image.ImageDataGenerator(\n",
        "#     rescale=1./255,\n",
        "#     horizontal_flip= True,\n",
        "#     vertical_flip= True,\n",
        "#     fill_mode= 'wrap'\n",
        "# )"
      ],
      "metadata": {
        "id": "5oOKxML9OYS3"
      },
      "execution_count": 17,
      "outputs": []
    },
    {
      "cell_type": "code",
      "execution_count": 18,
      "metadata": {
        "id": "nHCZUrniDQke"
      },
      "outputs": [],
      "source": [
        "valid_datagen = tf.keras.preprocessing.image.ImageDataGenerator(rescale=1./255)"
      ]
    },
    {
      "cell_type": "code",
      "execution_count": 19,
      "metadata": {
        "id": "zLZfLP9qDUGq",
        "colab": {
          "base_uri": "https://localhost:8080/"
        },
        "outputId": "f8a8c116-d274-4299-a33c-1fd5e3cfb357"
      },
      "outputs": [
        {
          "output_type": "stream",
          "name": "stdout",
          "text": [
            "Found 6000 images belonging to 2 classes.\n",
            "Found 2000 images belonging to 2 classes.\n"
          ]
        }
      ],
      "source": [
        "train_set = train_datagen.flow_from_directory(\n",
        "    train_dir,\n",
        "    target_size=img_size,\n",
        "    color_mode='grayscale',\n",
        "    batch_size=batch_size,\n",
        "    class_mode='binary'\n",
        ")\n",
        "\n",
        "valid_set = valid_datagen.flow_from_directory(\n",
        "    valid_dir,\n",
        "    target_size=img_size,\n",
        "    color_mode='grayscale',\n",
        "    batch_size=batch_size,\n",
        "    class_mode='binary'\n",
        ")"
      ]
    },
    {
      "cell_type": "code",
      "execution_count": 20,
      "metadata": {
        "id": "_7wUkXqxIQKk"
      },
      "outputs": [],
      "source": [
        "train_label = train_set.labels\n",
        "valid_label = valid_set.labels"
      ]
    },
    {
      "cell_type": "code",
      "execution_count": 21,
      "metadata": {
        "id": "qQKB_f1w9RuS"
      },
      "outputs": [],
      "source": [
        "train_count = [np.count_nonzero(train_label == 0), \n",
        "               np.count_nonzero(train_label == 1)]\n",
        "valid_count = [np.count_nonzero(valid_label == 0), \n",
        "               np.count_nonzero(valid_label == 1)]\n",
        "classes = ['Fake', 'Real']"
      ]
    },
    {
      "cell_type": "code",
      "execution_count": 22,
      "metadata": {
        "id": "54rL8cBqBm_2",
        "colab": {
          "base_uri": "https://localhost:8080/",
          "height": 452
        },
        "outputId": "2d7f3caa-d359-486f-f1bc-bda75df63085"
      },
      "outputs": [
        {
          "output_type": "display_data",
          "data": {
            "text/plain": [
              "<Figure size 640x480 with 1 Axes>"
            ],
            "image/png": "[encoded data removed]"
          },
          "metadata": {}
        }
      ],
      "source": [
        "plt.figure()\n",
        "plt.bar(classes,train_count, label = 'Training Data')\n",
        "plt.bar(classes, valid_count, label = 'Validation Data')\n",
        "plt.title('Training and Validation Data count')\n",
        "plt.legend()\n",
        "plt.show()"
      ]
    },
    {
      "cell_type": "code",
      "execution_count": 23,
      "metadata": {
        "id": "bGqMSLB8Sb6b"
      },
      "outputs": [],
      "source": [
        "batch = train_set.next()"
      ]
    },
    {
      "cell_type": "code",
      "source": [
        "real_ind = [n for n in range(len(batch[1])) if batch[1][n] == 1]\n",
        "fake_ind = [n for n in range(len(batch[1])) if batch[1][n] == 0]"
      ],
      "metadata": {
        "id": "xcRDPTIDUwhh"
      },
      "execution_count": 24,
      "outputs": []
    },
    {
      "cell_type": "code",
      "execution_count": 25,
      "metadata": {
        "id": "RXz98LJpP-Xd",
        "colab": {
          "base_uri": "https://localhost:8080/",
          "height": 364
        },
        "outputId": "1b6aba01-c0bf-4e7f-a374-65121c668b46"
      },
      "outputs": [
        {
          "output_type": "display_data",
          "data": {
            "text/plain": [
              "<Figure size 800x800 with 2 Axes>"
            ],
            "image/png": "[encoded data removed]"
          },
          "metadata": {}
        }
      ],
      "source": [
        "fig, ax = plt.subplots(nrows = 1, ncols= 2, figsize = (8,8))\n",
        "ax[0].imshow(batch[0][real_ind[0]])\n",
        "ax[0].set_title('Real Galaxy')\n",
        "ax[1].imshow(batch[0][fake_ind[0]])\n",
        "ax[1].set_title('Fake Galaxy')\n",
        "plt.show()"
      ]
    },
    {
      "cell_type": "code",
      "execution_count": 38,
      "metadata": {
        "id": "5jBAVHATTnxL"
      },
      "outputs": [],
      "source": [
        "model = models.Sequential([\n",
        "    layers.Conv2D(16, (3, 3), activation='relu', input_shape=(64, 64,1),\n",
        "                  padding='same',kernel_regularizer=regularizers.l2(0.001),\n",
        "                  bias_regularizer=regularizers.l2(0.001)),\n",
        "    layers.MaxPooling2D((2, 2)),\n",
        "    layers.Conv2D(32, (3, 3), activation='relu',\n",
        "                  padding='same',kernel_regularizer=regularizers.l2(0.001),\n",
        "                  bias_regularizer=regularizers.l2(0.001)),\n",
        "    layers.MaxPooling2D((2, 2)),\n",
        "    layers.Conv2D(64, (3, 3), activation='relu',\n",
        "                  padding='same',kernel_regularizer=regularizers.l2(0.001),\n",
        "                  bias_regularizer=regularizers.l2(0.001)),\n",
        "    layers.MaxPooling2D((2, 2)),\n",
        "    layers.Conv2D(128, (3, 3), activation='relu',\n",
        "                  padding='same',kernel_regularizer=regularizers.l2(0.001),\n",
        "                  bias_regularizer=regularizers.l2(0.001)),\n",
        "    layers.MaxPooling2D((2, 2)),\n",
        "    layers.Dropout(0.1),\n",
        "    layers.Flatten(),\n",
        "    layers.Dense(16, activation='relu'),\n",
        "    layers.Dropout(0.1),\n",
        "    layers.Dense(1, activation='sigmoid')\n",
        "])"
      ]
    },
    {
      "cell_type": "code",
      "source": [
        "\n",
        "# model = models.Sequential([\n",
        "#     layers.Conv2D(64, (3, 3), activation='relu', input_shape=(64, 64,1),\n",
        "#                    padding='same'),\n",
        "#     layers.Conv2D(64, (3, 3), activation='relu',\n",
        "#                   kernel_regularizer=regularizers.l1(0.01),padding='same'),\n",
        "#     layers.MaxPooling2D((2, 2)),\n",
        "#     layers.Conv2D(64, (3, 3), activation='relu',\n",
        "#                   padding='same'),\n",
        "#     layers.Conv2D(64, (3, 3), activation='relu',\n",
        "#                   kernel_regularizer=regularizers.l2(0.01),padding='same'),\n",
        "#     layers.MaxPooling2D((2, 2)),\n",
        "#     layers.Conv2D(16, (3, 3), activation='relu',\n",
        "#                   padding='same'),\n",
        "#     layers.Conv2D(16, (3, 3), activation='relu',\n",
        "#                   kernel_regularizer=regularizers.l1(0.01),padding='same'),\n",
        "#     layers.MaxPooling2D((2, 2)),\n",
        "#     layers.Flatten(),\n",
        "#     layers.Dense(20, activation='relu',\n",
        "#                  kernel_regularizer=regularizers.l2(0.01)),\n",
        "#     layers.Dropout(0.1),\n",
        "#     layers.Dense(1, activation='sigmoid')\n",
        "# ])"
      ],
      "metadata": {
        "id": "8u71OfyVGC4l"
      },
      "execution_count": 39,
      "outputs": []
    },
    {
      "cell_type": "code",
      "execution_count": 40,
      "metadata": {
        "id": "SHuBSS_sUm2n",
        "colab": {
          "base_uri": "https://localhost:8080/"
        },
        "outputId": "44904755-fdc3-4b2a-e9bd-442bb7e2b426"
      },
      "outputs": [
        {
          "output_type": "stream",
          "name": "stdout",
          "text": [
            "Model: \"sequential_2\"\n",
            "_________________________________________________________________\n",
            " Layer (type)                Output Shape              Param #   \n",
            "=================================================================\n",
            " conv2d_8 (Conv2D)           (None, 64, 64, 16)        160       \n",
            "                                                                 \n",
            " max_pooling2d_8 (MaxPooling  (None, 32, 32, 16)       0         \n",
            " 2D)                                                             \n",
            "                                                                 \n",
            " conv2d_9 (Conv2D)           (None, 32, 32, 32)        4640      \n",
            "                                                                 \n",
            " max_pooling2d_9 (MaxPooling  (None, 16, 16, 32)       0         \n",
            " 2D)                                                             \n",
            "                                                                 \n",
            " conv2d_10 (Conv2D)          (None, 16, 16, 64)        18496     \n",
            "                                                                 \n",
            " max_pooling2d_10 (MaxPoolin  (None, 8, 8, 64)         0         \n",
            " g2D)                                                            \n",
            "                                                                 \n",
            " conv2d_11 (Conv2D)          (None, 8, 8, 128)         73856     \n",
            "                                                                 \n",
            " max_pooling2d_11 (MaxPoolin  (None, 4, 4, 128)        0         \n",
            " g2D)                                                            \n",
            "                                                                 \n",
            " dropout_4 (Dropout)         (None, 4, 4, 128)         0         \n",
            "                                                                 \n",
            " flatten_2 (Flatten)         (None, 2048)              0         \n",
            "                                                                 \n",
            " dense_4 (Dense)             (None, 16)                32784     \n",
            "                                                                 \n",
            " dropout_5 (Dropout)         (None, 16)                0         \n",
            "                                                                 \n",
            " dense_5 (Dense)             (None, 1)                 17        \n",
            "                                                                 \n",
            "=================================================================\n",
            "Total params: 129,953\n",
            "Trainable params: 129,953\n",
            "Non-trainable params: 0\n",
            "_________________________________________________________________\n"
          ]
        }
      ],
      "source": [
        "model.summary()"
      ]
    },
    {
      "cell_type": "code",
      "source": [
        "# autotun = tf.data.AUTOTUNE\n",
        "\n",
        "# train_set = train_set.cache().prefetch(buffer_size=autotun)\n",
        "# val_set = valid_set.cache().prefetch(buffer_size=autotun)"
      ],
      "metadata": {
        "id": "_t06rhCuP-2U"
      },
      "execution_count": 41,
      "outputs": []
    },
    {
      "cell_type": "code",
      "execution_count": 42,
      "metadata": {
        "id": "hTU-wPXgIP4C"
      },
      "outputs": [],
      "source": [
        "model.compile(loss= 'binary_crossentropy', \n",
        "              optimizer= optimizers.Adam(learning_rate=0.001), \n",
        "              metrics= ['accuracy'])"
      ]
    },
    {
      "cell_type": "code",
      "execution_count": null,
      "metadata": {
        "id": "DEJduITRIS75",
        "colab": {
          "base_uri": "https://localhost:8080/"
        },
        "outputId": "7eb099f9-2e45-4065-8de8-a5ce120e1869"
      },
      "outputs": [
        {
          "output_type": "stream",
          "name": "stdout",
          "text": [
            "Epoch 1/6\n",
            "188/188 [==============================] - ETA: 0s - loss: 0.2238 - accuracy: 0.9468"
          ]
        }
      ],
      "source": [
        "Early_Stop = callbacks.EarlyStopping(monitor='val_loss', patience=3)\n",
        "\n",
        "history = model.fit(\n",
        "    train_set,\n",
        "    epochs=6,\n",
        "    validation_data=valid_set,\n",
        "    callbacks = [Early_Stop]\n",
        ")"
      ]
    },
    {
      "cell_type": "code",
      "execution_count": null,
      "metadata": {
        "id": "CQzbWO7aIqrL"
      },
      "outputs": [],
      "source": [
        "plt.figure()\n",
        "plt.plot(history.history['loss'], label='Training')\n",
        "plt.plot(history.history['val_loss'], label='Validation')\n",
        "plt.legend(loc=0)\n",
        "plt.title('Model Loss')\n",
        "plt.figure()\n",
        "plt.plot(history.history['accuracy'], label='Training')\n",
        "plt.plot(history.history['val_accuracy'], label='Validation')\n",
        "plt.legend(loc=0)\n",
        "plt.title('Model Accuracy')\n",
        "plt.savefig('Fig 1')\n",
        "plt.show()"
      ]
    },
    {
      "cell_type": "code",
      "execution_count": null,
      "metadata": {
        "id": "GRUkfDyNPME7"
      },
      "outputs": [],
      "source": [
        "test_loss, test_acc = model.evaluate(valid_set)"
      ]
    },
    {
      "cell_type": "code",
      "execution_count": null,
      "metadata": {
        "id": "1Q7cUHs0DbE3"
      },
      "outputs": [],
      "source": [
        "test_loss"
      ]
    },
    {
      "cell_type": "code",
      "execution_count": null,
      "metadata": {
        "id": "fjtqfkiJDgcf"
      },
      "outputs": [],
      "source": [
        "test_acc"
      ]
    },
    {
      "cell_type": "code",
      "execution_count": null,
      "metadata": {
        "id": "UZGXLuWnDlT9"
      },
      "outputs": [],
      "source": [
        "pred = model.predict(valid_set)"
      ]
    },
    {
      "cell_type": "code",
      "source": [
        "p = [1 * (x[0]>=0.5) for x in pred]"
      ],
      "metadata": {
        "id": "inDCBYwpVJ7r"
      },
      "execution_count": null,
      "outputs": []
    },
    {
      "cell_type": "code",
      "source": [
        "valid_labels = valid_set.labels\n",
        "valid_labels"
      ],
      "metadata": {
        "id": "GkwMFjDE5CBK"
      },
      "execution_count": null,
      "outputs": []
    },
    {
      "cell_type": "code",
      "source": [
        "from sklearn.metrics import confusion_matrix\n",
        "import seaborn as sns\n",
        "data = confusion_matrix(valid_labels, p)\n",
        "plt.figure(figsize=(8,8))\n",
        "ax = sns.heatmap(data, annot=True, fmt='d')"
      ],
      "metadata": {
        "id": "4DGSdMiWpLWY"
      },
      "execution_count": null,
      "outputs": []
    },
    {
      "cell_type": "code",
      "source": [
        "from sklearn.metrics import classification_report\n",
        "report = classification_report(valid_labels, p)\n",
        "print(report)"
      ],
      "metadata": {
        "id": "5XkI6MJB5VKk"
      },
      "execution_count": null,
      "outputs": []
    },
    {
      "cell_type": "code",
      "source": [],
      "metadata": {
        "id": "fNpluP28_JoF"
      },
      "execution_count": null,
      "outputs": []
    }
  ],
  "metadata": {
    "accelerator": "GPU",
    "colab": {
      "provenance": []
    },
    "gpuClass": "standard",
    "kernelspec": {
      "display_name": "Python 3",
      "name": "python3"
    },
    "language_info": {
      "name": "python"
    }
  },
  "nbformat": 4,
  "nbformat_minor": 0
}